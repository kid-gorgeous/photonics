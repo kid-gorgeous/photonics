{
 "cells": [
  {
   "cell_type": "markdown",
   "id": "3ee63d9c-cda0-45ae-8b50-f84e14764b7f",
   "metadata": {},
   "source": [
    "## Notebook 1 - Mathematical and Computational Methods in Photonics and Phononics\n",
    "### from Mathematical Surveys and Monograph, Volume 235\n",
    "---\n",
    "\n",
    "This notebook will contain Chapters and their Titles along with short descriptions of key points, vocabulary, and any mathematics and computations that my be required to understand the topics cover in the book. \n",
    "\n",
    "ISBN: # 978-1470448004\n",
    "\n",
    "Additional information can be found by visiting www.ams.org/bookpages/surv-235\n",
    "and assitance found from MIT Open Courseware | Spring 2018 | Complex Variables with Applications\n",
    "\n",
    "opening the working directory for MIT Open Courseware: cd /Volumes/hd/Courses/Complex Variables with Applications && open -R index.html"
   ]
  },
  {
   "cell_type": "markdown",
   "id": "847f764a-ba26-4d36-97c6-0f992395e528",
   "metadata": {},
   "source": [
    "## Chapter 1: Generalized Argument Principle and Rouché's Theorem\n",
    "\n",
    "This chapter concerns the generalization to operator-valued unctions of two classical results in complex analysis, the argument principle, and Rouché theorem. \n",
    "\n",
    "An efficient method of *complex analysis* to be used is refered to as the Muller's method. It is used to find zeros of a function defined on the complex plane. It is used to compute poles of integral operators, and for the comutatition of resonant cavities, band gap structures, and plasmonic resonances in nanoparticales.\n",
    "\n",
    "### 1.2 Argument Principle and Rouché Theorem \n",
    "\n",
    "Vocab: \n",
    "    - Holomorphic: is a complex-valued function of one or more complex variables that is complex differentiable n a neighbourhood of each point in a domain in complex coordinate space $\\mathbb{C}^{n}$.\n",
    "    - Meromorphic: is a complex-valued function that is holomorphic on all of $D \\in U$ except for a set of isolated points, which are considered the poles of the function.\n",
    "\n",
    "To understand the *Argument Principle*, $f$ must first be observed as a holomorphic function. It must a zero of order $n$ and at $z_{0}$, such that the function $f(z)$ can be written as $f(z) = (z - z_{0})^{n}g(z)$, where $g$ must be a holomorphic function and nowhere near vanishing in a neighborhood of $z_{0}$. Therefore the ratio: <br>\n",
    "\n",
    "> $\\frac{f'}{f} = \\frac{n}{z - z_{0}} + \\frac{g'(z)}{g(z)}$\n",
    "\n",
    "Then the functional ratio of $f'/f$ has a simple pole with residue $n$ at $z_{0}$. \n",
    "\n",
    "A similar fact also holds if $f$ has a pole of order $n$ at $z_{0}$, such that $f(z) = (z - z_{0})^{-n}h(z)$, where $h$ must be a holomorphic function and nowhere near vanishing in a neighborhood of $z_{0}$. Therefore the ratio: <br>\n",
    "\n",
    "> $\\frac{f'}{f} = -\\frac{n}{z - z_{0}} + \\frac{h'(z)}{h(z)}$ (which appears as its inverse)\n",
    "\n",
    "Therefore, if $f$ is meromorphic, the function $f'/f$ will have simple poles at the zeros and poles of $f$, and the residue is simply the order of the zero of $f$ or the negative f the order of the pole of $f$. \n",
    "\n",
    "***Theorem 1.1* (Argument Principle)**: *Let $V \\subset \\mathbb{C}$ be a bounded smooth boundary $\\delta$V positively oriented and let $f(z)$ be a meromorphic function in a neightborhood of $\\bar{V}$. Let P and N be the numbers of poles an zeros of $f$ in V, counted with their orders. If $f$ has no poles or zeros on $\\delta$V, then:*\n",
    "\n",
    "> (1.1) $\\frac{1}{2\\pi\\sqrt{-1}} \\int_{\\delta V}^{} \\frac{f'(z)}{f(z)}dz = N - P$\n",
    "\n",
    "Rouché theorem is a consequence of the argument principle. It is consider a continuity statement, and can pertube slightly without changing the number of zeros. It reads as follows:\n",
    "\n",
    "***Theorem 1.2* (Rouché theorem)**: *With V as above, suppose that $f(z)$ and $g(z)$ are holomorphic in a neighborhood of $\\bar{V}$. \n",
    "\n",
    "(stopping here for a quick lunch)"
   ]
  },
  {
   "cell_type": "code",
   "execution_count": null,
   "id": "c22925ad-35aa-407e-b281-2d8b7d02e194",
   "metadata": {},
   "outputs": [],
   "source": []
  }
 ],
 "metadata": {
  "kernelspec": {
   "display_name": "Python 3 (ipykernel)",
   "language": "python",
   "name": "python3"
  },
  "language_info": {
   "codemirror_mode": {
    "name": "ipython",
    "version": 3
   },
   "file_extension": ".py",
   "mimetype": "text/x-python",
   "name": "python",
   "nbconvert_exporter": "python",
   "pygments_lexer": "ipython3",
   "version": "3.11.6"
  }
 },
 "nbformat": 4,
 "nbformat_minor": 5
}
